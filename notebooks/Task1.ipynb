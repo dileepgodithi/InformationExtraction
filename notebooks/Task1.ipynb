{
 "cells": [
  {
   "cell_type": "code",
   "execution_count": 35,
   "metadata": {},
   "outputs": [
    {
     "name": "stderr",
     "output_type": "stream",
     "text": [
      "[nltk_data] Downloading package punkt to\n",
      "[nltk_data]     /Users/meghanasolleti/nltk_data...\n",
      "[nltk_data]   Package punkt is already up-to-date!\n",
      "[nltk_data] Downloading package wordnet to\n",
      "[nltk_data]     /Users/meghanasolleti/nltk_data...\n",
      "[nltk_data]   Package wordnet is already up-to-date!\n"
     ]
    }
   ],
   "source": [
    "import sys\n",
    "import os\n",
    "import nltk\n",
    "import spacy\n",
    "\n",
    "nltk.download('punkt')\n",
    "nltk.download('wordnet')\n",
    "spaci = spacy.load('en')\n",
    "from nltk.tokenize import sent_tokenize\n",
    "from nltk.tokenize import word_tokenize\n",
    "from nltk.stem import WordNetLemmatizer\n",
    "from nltk.corpus import wordnet\n"
   ]
  },
  {
   "cell_type": "code",
   "execution_count": 36,
   "metadata": {},
   "outputs": [],
   "source": [
    "def tokenize_sentence(sentences):\n",
    "    for i in sentences:\n",
    "        tokens=[]\n",
    "        tokens=word_tokenize(i)\n",
    "        print(tokens)"
   ]
  },
  {
   "cell_type": "code",
   "execution_count": 37,
   "metadata": {},
   "outputs": [],
   "source": [
    "def lemmatize_sentence_nltk(sentences):\n",
    "    lemmatizer = WordNetLemmatizer()\n",
    "    for i in sentences:\n",
    "        for word in word_tokenize(i):\n",
    "            print(word,\"-->\",lemmatizer.lemmatize(word))"
   ]
  },
  {
   "cell_type": "code",
   "execution_count": 38,
   "metadata": {},
   "outputs": [],
   "source": [
    "def lemmatize_sentence_spacy(sentences):\n",
    "    for i in sentences:\n",
    "        sentence_=spaci(i)\n",
    "        for word in sentence_:\n",
    "            print(word,\"-->\",word.lemma_)"
   ]
  },
  {
   "cell_type": "code",
   "execution_count": 39,
   "metadata": {},
   "outputs": [],
   "source": [
    "def parts_of_speech_tag_spacy(sentences):\n",
    "    for i in sentences:\n",
    "        sentence_=spaci(i)\n",
    "        for word in sentence_:\n",
    "            print(word,\"-->\",word.pos_)"
   ]
  },
  {
   "cell_type": "code",
   "execution_count": 52,
   "metadata": {},
   "outputs": [],
   "source": [
    "def dependency_parsing_features_spacy(sentences):\n",
    "    for i in sentences:\n",
    "        sentence_=spaci(i)\n",
    "        for token in sentence_.noun_chunks:\n",
    "            print(f'{token.text:.<{45}},{token.root.text:{10}},{token.root.dep_:{10}},{token.root.head.text:{10}},{token.root.head.pos_}')\n",
    "                  "
   ]
  },
  {
   "cell_type": "code",
   "execution_count": 41,
   "metadata": {},
   "outputs": [],
   "source": [
    "def print_synset_relations(word):\n",
    "    synset= wordnet.synsets(word)\n",
    "    if len(synset)!=0:\n",
    "        hypernymy=synset[0].hypernyms()\n",
    "        if(len(hypernymy)!=0):\n",
    "            print(\"Hypernyms of \",word)\n",
    "            print(hypernymy)\n",
    "        hyponymy=synset[0].hyponyms()\n",
    "        if(len(hyponymy)!=0):\n",
    "            print(\"Hyponyms of \",word)\n",
    "            print(hyponymy)\n",
    "        holonymy=synset[0].member_holonyms()\n",
    "        if(len(holonymy)!=0):\n",
    "            print(\"Holonyms of \",word)\n",
    "            print(holonymy)\n",
    "        meronymy=synset[0].member_meronyms()\n",
    "        if(len(meronymy)!=0):\n",
    "            print(\"meronyms of \",word)\n",
    "            print(meronymy)"
   ]
  },
  {
   "cell_type": "code",
   "execution_count": 49,
   "metadata": {},
   "outputs": [],
   "source": [
    "def NLP_features(sentences):\n",
    "    print(\"Sentences\")\n",
    "    for sentence in sentences:\n",
    "        print(sentence)\n",
    "    print(\"tokens\")\n",
    "    tokenize_sentence(sentences)\n",
    "    print(\"lemmas\")\n",
    "    lemmatize_sentence_spacy(sentences)\n",
    "    print(\"parts of speech\")\n",
    "    parts_of_speech_tag_spacy(sentences)\n",
    "    print(\"dependency_parsing_features\")\n",
    "    dependency_parsing_features_spacy(sentences)\n",
    "    print(\"Synset Relations\")\n",
    "    for i in sentences:\n",
    "        for word in word_tokenize(i):\n",
    "            print_synset_relations(word)\n",
    "        "
   ]
  },
  {
   "cell_type": "code",
   "execution_count": 53,
   "metadata": {},
   "outputs": [],
   "source": [
    "if __name__ == '__main__':\n",
    "\n",
    "    arg_list = sys.argv\n",
    "    sentences=[]\n",
    "    with open(\"/Users/meghanasolleti/Documents/NLP/Project/WikipediaArticles/AbrahamLincoln.txt\",'r',encoding='utf-8-sig') as file:\n",
    "              data=file.read()\n",
    "              sentences=sent_tokenize(data)\n",
    "    NLP_features(sentences)\n",
    "\n",
    "    "
   ]
  },
  {
   "cell_type": "code",
   "execution_count": null,
   "metadata": {},
   "outputs": [],
   "source": []
  },
  {
   "cell_type": "code",
   "execution_count": null,
   "metadata": {},
   "outputs": [],
   "source": []
  },
  {
   "cell_type": "code",
   "execution_count": null,
   "metadata": {},
   "outputs": [],
   "source": []
  },
  {
   "cell_type": "code",
   "execution_count": null,
   "metadata": {},
   "outputs": [],
   "source": []
  },
  {
   "cell_type": "code",
   "execution_count": 30,
   "metadata": {},
   "outputs": [],
   "source": []
  },
  {
   "cell_type": "code",
   "execution_count": null,
   "metadata": {},
   "outputs": [],
   "source": []
  },
  {
   "cell_type": "code",
   "execution_count": null,
   "metadata": {},
   "outputs": [],
   "source": []
  },
  {
   "cell_type": "code",
   "execution_count": null,
   "metadata": {},
   "outputs": [],
   "source": []
  },
  {
   "cell_type": "code",
   "execution_count": null,
   "metadata": {},
   "outputs": [],
   "source": [
    "\n"
   ]
  },
  {
   "cell_type": "code",
   "execution_count": null,
   "metadata": {},
   "outputs": [],
   "source": []
  },
  {
   "cell_type": "code",
   "execution_count": null,
   "metadata": {},
   "outputs": [],
   "source": []
  },
  {
   "cell_type": "code",
   "execution_count": null,
   "metadata": {},
   "outputs": [],
   "source": []
  }
 ],
 "metadata": {
  "kernelspec": {
   "display_name": "Python 3",
   "language": "python",
   "name": "python3"
  },
  "language_info": {
   "codemirror_mode": {
    "name": "ipython",
    "version": 3
   },
   "file_extension": ".py",
   "mimetype": "text/x-python",
   "name": "python",
   "nbconvert_exporter": "python",
   "pygments_lexer": "ipython3",
   "version": "3.7.6"
  }
 },
 "nbformat": 4,
 "nbformat_minor": 4
}
